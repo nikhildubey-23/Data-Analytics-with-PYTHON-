{
 "cells": [
  {
   "cell_type": "markdown",
   "id": "b4857b19-8e5e-4628-9441-40c8bfdde05e",
   "metadata": {},
   "source": [
    "we will start with the priting statment "
   ]
  },
  {
   "cell_type": "code",
   "execution_count": 1,
   "id": "4d4e639c-5541-4070-b7c8-83f2e2be9892",
   "metadata": {},
   "outputs": [
    {
     "name": "stdout",
     "output_type": "stream",
     "text": [
      "jai hind , jai bharat\n"
     ]
    }
   ],
   "source": [
    "print(\"jai hind , jai bharat\")"
   ]
  },
  {
   "cell_type": "code",
   "execution_count": 12,
   "id": "1ef5d677-1609-4e7d-bb36-63a845d9073f",
   "metadata": {},
   "outputs": [
    {
     "name": "stdout",
     "output_type": "stream",
     "text": [
      "this is printed by small name varible | my name is anomynous \n",
      "this is printed by upper case Name varible |  my name is  phiber optik\n"
     ]
    }
   ],
   "source": [
    "#now we see how we can give the variable name so for that there are certain reules that we have to follow\n",
    "# rule number 1:- variable name should be started with any letter(upper or lower case) or with underscore after that you can add number also but before we have to use letter and underscore only\n",
    "# rule number 2:- you varible name doesnot belongs to keyword (reserved word)of python \n",
    "# rule number 3 :- as we know that python is a case sensitive programing language so we should carefull while we give varibale name because both \"nick\" and \"Nick\" both are different \n",
    "# rule number 4 :- we can take any length varibale name  \n",
    "\n",
    "# note :- all the above rule are also apply on identifier(module name ,classes name ,function name)  too\n",
    "\n",
    "name = \"my name is anomynous \"#this name is a variable name\n",
    "print(\"this is printed by small name varible |\",name)\n",
    "Name = \"my name is  phiber optik\" # as we see that both we pronounce the same name with both convention are different as a result both will print the different value\n",
    "print(\"this is printed by upper case Name varible | \",Name)"
   ]
  },
  {
   "cell_type": "code",
   "execution_count": 14,
   "id": "e0879289-debc-48d2-89cc-fe5b2a82b5ef",
   "metadata": {},
   "outputs": [
    {
     "name": "stdin",
     "output_type": "stream",
     "text": [
      "enter your name \n",
      "  nikhil\n"
     ]
    },
    {
     "name": "stdout",
     "output_type": "stream",
     "text": [
      "nikhil\n"
     ]
    }
   ],
   "source": [
    "# now we will see how we can take user input for taking that we use the function called input() \n",
    "my_name = input(\"enter your name \\n \")#input(\"mesage that will seen by the user\")\n",
    "print(my_name)#fot printing the output\n"
   ]
  },
  {
   "cell_type": "markdown",
   "id": "cbd9df73-c4b2-4297-9fba-053481742971",
   "metadata": {},
   "source": [
    "Now we will see the data types in python...................\n"
   ]
  },
  {
   "cell_type": "code",
   "execution_count": 9,
   "id": "ef95aa54-09c5-4666-a084-889486b9e76e",
   "metadata": {},
   "outputs": [
    {
     "name": "stdout",
     "output_type": "stream",
     "text": [
      "this is single line string using dual quotes\n",
      "this is single line string using single quotes\n",
      "this \n",
      "                        is \n",
      "                        multi \n",
      "                        line\n",
      "                        string\n",
      "this line is coming for concatinate varibale | this is single line string using dual quotesthis is single line string using single quotes\n",
      "the length the of single_line_string is   44\n",
      "t\n",
      "s\n",
      "this\n",
      "this turns to upper case because of the upper method in python THIS IS SINGLE LINE STRING USING DUAL QUOTES\n",
      "before the lower case method  I CAN DO ANYTHING \n",
      "after the lower case method  i can do anything \n",
      "19\n",
      "in this from is replaced by the the :-  **Cybersecurity** is the practice of protecting systems, networks, and data the cyberattacks. Cyberattacks are malicious attempts to gain unauthorized access to computer systems, networks, or data, or to disrupt or disable them. Cyberattacks can be carried out by individuals, groups, or even governments, and they can be motivated by a variety of factors, including financial gain, espionage, or simply the desire to cause disruption.\n",
      " my name is nikhil anf i am 20 year old \n"
     ]
    }
   ],
   "source": [
    "# number 1 : string :- string is a data type which is written in between dual as well as single quotes ans also with tripal (in between three single quotes) quotes , and it is most widly use data type in python . there are two types of string single line string and multi line string\n",
    "# first we see the single line string \n",
    "single_line_string = \"this is single line string using dual quotes\"\n",
    "print(single_line_string)\n",
    "single_line_string_2 = 'this is single line string using single quotes'\n",
    "print(single_line_string_2)\n",
    "multi_line_string = '''this \n",
    "                        is \n",
    "                        multi \n",
    "                        line\n",
    "                        string'''\n",
    "print(multi_line_string)\n",
    "\n",
    "# now we will see what all operation that we can perform in string data type in python \n",
    "# number 1 : concatination :- adding two string together\n",
    "concatinate = single_line_string + single_line_string_2 #pluse sing is use for concatination\n",
    "print(\"this line is coming for concatinate varibale |\",concatinate)\n",
    "# now we will see how we can find the string length so for doing that task we use the inbuilt function of python called len()\n",
    "print(\"the length the of single_line_string is  \",len(single_line_string))\n",
    "# how we can do string indexing and slicing \n",
    "# suppose i want to to access the first letter of that string \n",
    "print(single_line_string[0])#the output is t because the first letter is t \n",
    "# suppose i want to to access the third letter of that string \n",
    "print(single_line_string[3])#the output is s because the third letter is s this is how we use to do indexing in python\n",
    "# ------------------now we see about the slicing \"\n",
    "# suppose i want to print complete this which is present in the variable single_line_string \n",
    "print(single_line_string[0:4]) #remember that ending value [starting value:ending value ] follow the n-1 rule n is the number of which we give for to index the element \n",
    "# this is all about the slicing and indexing of the varibale\n",
    "\n",
    "\n",
    "# now we will see some most widly use method of string\n",
    "# number 1 :- upper():- it turns all the value of string to uppercase\"\n",
    "print(\"this turns to upper case because of the upper method in python\",single_line_string.upper())\n",
    "# number 2:- lower():- will turn all the upper case into lower case\n",
    "capital_text = \"I CAN DO ANYTHING \"\n",
    "print(\"before the lower case method \", capital_text)\n",
    "print(\"after the lower case method \",capital_text.lower())\n",
    "# number 3 :- find() :- this method is use to find the word present in paragraph \n",
    "paragraph = ''' **Cybersecurity** is the practice of protecting systems, networks, and data from cyberattacks. Cyberattacks are malicious attempts to gain unauthorized access to computer systems, networks, or data, or to disrupt or disable them. Cyberattacks can be carried out by individuals, groups, or even governments, and they can be motivated by a variety of factors, including financial gain, espionage, or simply the desire to cause disruption.'''\n",
    "print(paragraph.find(\"is\"))#the output that we get is indexing when first \"is\" is comming in that peragraph\n",
    "# number 4:- replace():- this method is use to replace the word with another word\n",
    "print(\"in this from is replaced by the \"\"the :-\",paragraph.replace(\"from\",\"the\"))      \n",
    "# number 5 :- sting formatting using f string:- \n",
    "name = \"nikhil\"\n",
    "age = 20\n",
    "msg = f\" my name is {name} and i am {age} year old \"\n",
    "print(msg)#curly breses are use for placeholder and f is use to denote that this string is a formatted string \n",
    "\n",
    "# --------------------------------------------------here we all done about the string topic---------------------------------------------------------------------"
   ]
  },
  {
   "cell_type": "code",
   "execution_count": 7,
   "id": "49c85d25-64e6-447a-98ec-4c0d9080d4a6",
   "metadata": {},
   "outputs": [
    {
     "name": "stdout",
     "output_type": "stream",
     "text": [
      "this is how we csn create a tuple  (1, 2, 4, 4, 5, 9)\n",
      "the length of the tupple is  6\n",
      "the index number 1 of the tuple is 2\n",
      "the selected index of the tuple is  (1, 2, 4)\n"
     ]
    }
   ],
   "source": [
    "# Data type number 2:- tuple:-a tuple is a ordered and immutable collection of elements , it is similar to list but one key difference is that once you created a tupple then you cannot change its content.\n",
    "# key charecter of tupple \n",
    "# 1. tuple maintain the order of the elements same as a list and it is accessed by the postion index in the tupple\n",
    "# 2. once tuple is created we cannot add or remove as well as we canmnot modifie that tuple to\n",
    "# 3. tupple is hetrogenous means it can contain mix of different data type\n",
    "# 5. we can create tuple using prentheses bracket\n",
    "#  syntax of tuple:--\n",
    "tuple = (1,2,4,4,5,9)\n",
    "print(\"this is how we csn create a tuple \",tuple)\n",
    "# we can find the length of the tuple using len() method\n",
    "print(\"the length of the tupple is \",len(tuple))\n",
    "# slicing of tuple\n",
    "print(\"the index number 1 of the tuple is\",tuple[1])#output 2\n",
    "# if we want to print from 0 to 3 that is also possible\n",
    "print(\"the selected index of the tuple is \",tuple[0:3])#it will also follow the n-1(3-1) rule \n"
   ]
  },
  {
   "cell_type": "code",
   "execution_count": 12,
   "id": "0eadf7c9-2e56-48d3-94cf-69c419d56fed",
   "metadata": {},
   "outputs": [
    {
     "name": "stdout",
     "output_type": "stream",
     "text": [
      "this list of friend present inside the list  ['mohan', 'vinit', 'abhinav', 'prevantika']\n",
      "we add one more name inside the list ['mohan', 'vinit', 'abhinav', 'prevantika', 'kavita']\n",
      "['abhinav', 'prevantika', 'kavita']\n",
      "the length of the list_of_frineds is :- 3\n",
      "the first index of the list is :- abhinav\n",
      "the element which is present in between 0 and 2 is :- ['abhinav', 'prevantika']\n"
     ]
    }
   ],
   "source": [
    "# Data type number 3 list it is most widly use datatype in python programing language\n",
    "# it is versatile and mutable data structure that is use to store collection of items\n",
    "# it is degin to hold the order of sequence of elements which can be of various datatype.\n",
    "\n",
    "# charecterstics of list\n",
    "# ordered = it use to maintain the order of the element we can access the element by its order of indexing \n",
    "# mutable = it can be modified after creating.\n",
    "# heterogeneous = list can contain \n",
    "# Define by square brackets .\n",
    "# syntax\n",
    "list_of_friends = [\"mohan\" , \"vinit\", \"abhinav\",\"prevantika\"]\n",
    "print(\"this list of friend present inside the list \",list_of_friends)\n",
    "# adding new friend name inside the list \n",
    "list_of_friends.append(\"kavita\")\n",
    "# now we print that list_of_friends again\n",
    "print(\"we add one more name inside the list\",list_of_friends)\n",
    "# now we try to remove the elements\n",
    "list_of_friends.remove(\"mohan\")\n",
    "list_of_friends.remove(\"vinit\")\n",
    "# now we print the elements \n",
    "print(list_of_friends)\n",
    "# now we try to find the length of the list.\n",
    "print(\"the length of the list_of_frineds is :-\",len(list_of_friends))\n",
    "# now we call elements using indexing as we now list follow the ordered method and we perform slicing to\n",
    "print(\"the first index of the list is :-\",list_of_friends[0])#its countng start from 0 not with one \n",
    "# now we try to access the elements present in between two indexing \n",
    "print(\"the element which is present in between 0 and 2 is :-\",list_of_friends[0:2])#as always its follows the n-1 rule too "
   ]
  },
  {
   "cell_type": "code",
   "execution_count": 27,
   "id": "f5ac667a-3815-4b96-85c3-3fcb9a5ef5b0",
   "metadata": {},
   "outputs": [
    {
     "name": "stdout",
     "output_type": "stream",
     "text": [
      "{1, 2, 4, 5, 7, 'puja'}\n",
      "we can see in the result that it do not print the duplicate elemets {'rohan', 1, 2, 4, 5, 'puja'}\n",
      "we can see that 41 is added:- {1, 2, 4, 5, 7, 'puja', 41}\n",
      "puja is removed:- {1, 2, 4, 5, 7, 41}\n",
      "the length of the set is :- 6\n",
      "the union of the set and set2 is :-  {'rohan', 1, 2, 4, 5, 7, 41, 'puja'}\n",
      "the intersection of the set and set2 is :- {1, 2, 4, 5}\n",
      "the difference between set and set2 is :- {41, 7}\n",
      "the length of set is :- 6\n",
      "the length of the set2 is :- 6\n"
     ]
    }
   ],
   "source": [
    "'''Datatype number 4 sets:- sets are unordered and mutable collection elements , sets are use to store distinct (different-different) values and \n",
    "particular useful when you work with data where duplicates are not allowed or when you want to perform set operation.'''\n",
    "# charactertics of sets:-\n",
    "# unordered list:- set do not maintain any order for their elemets.\n",
    "# mutable:-you can add remove elements after set is created\n",
    "# unique-ness:-set allow uniqueness do-not allow the duplicates\n",
    "# defined by curly-brackets\n",
    "# syntax of sets:\n",
    "set = {1,2,4,5,7,\"puja\"}\n",
    "# printing the sets\n",
    "print(set)\n",
    "# now we try to add some duplicates .\n",
    "set2 = {1,2,4,5,5,\"puja\",\"puja\",\"rohan\"}\n",
    "# printing\n",
    "print(\"we can see in the result that it do not print the duplicate elemets\",set2)\n",
    "# now we try to add the elemets inside the sets\n",
    "set.add(41)\n",
    "print(\"we can see that 41 is added:-\",set)\n",
    "# now we remove the element\n",
    "set.remove(\"puja\")\n",
    "# now we print\n",
    "print(\"puja is removed:-\",set)\n",
    "# now we try to find the length of the set.\n",
    "print(\"the length of the set is :-\",len(set))\n",
    "# now we preform sets operation list intersection , union & difference between two sets\n",
    "# first we go with union ; defining the union:-\n",
    "'''A union in math is a when two or more sets combine and the resulting set contains all of the elements present in each set. \n",
    "For example, if set A = {4, 7, 9, 3, 10} and set B = {1, 4, 10, 11, 20} the union of sets A and B, written as A ∪ B , results \n",
    "in the set A ∪ B = {1, 3, 4, 7, 9, 10, 11, 20}.'''\n",
    "\n",
    "print(\"the union of the set and set2 is :- \", set.union(set2))\n",
    "\n",
    "# now we perform intersection\n",
    "'''defining the intersection :- The intersection of two given sets, say X and Y, is the most extensive set containing all the elements common to\n",
    "X and Y. The intersection of two sets can be a set again with at least one element or it can be an\n",
    "empty set, i.e. no elements in the intersection set.'''\n",
    "\n",
    "print(\"the intersection of the set and set2 is :-\",set.intersection(set2)) \n",
    "\n",
    "# now we perform differences in between to sets\n",
    "print(\"the difference between set and set2 is :-\",set.difference(set2))\n",
    "\n",
    "# now we try to find the length of sets\n",
    "print(\"the length of set is :-\",len(set))\n",
    "print(\"the length of the set2 is :-\",len(set2))"
   ]
  },
  {
   "cell_type": "code",
   "execution_count": 5,
   "id": "cbd76798-9497-4ed7-b879-d5457a07de57",
   "metadata": {},
   "outputs": [
    {
     "name": "stdout",
     "output_type": "stream",
     "text": [
      "{'name': 'preeto', 'age': 22, 'relation': 'best-friend'}\n",
      "after we add new value which is class:- {'name': 'preeto', 'age': 22, 'relation': 'best-friend', 'class': 'btech 3rd year'}\n",
      "after we update the age  {'name': 'preeto', 'age': 21, 'relation': 'best-friend', 'class': 'btech 3rd year'}\n",
      "after deleting the key-value pairs:- {'name': 'preeto', 'age': 21, 'class': 'btech 3rd year'}\n",
      "the length of the dictionary is :- 3\n"
     ]
    }
   ],
   "source": [
    "'''Datatype number 5 :- dictnory :- its is also the most widly use datatype in the python it is versatile and mutable data sturcture it is use to store the collection\n",
    "of key value pairs'''\n",
    "# characterstics of dictnories:\n",
    "# 1 key-value pairs :- dictnory consist of kay-value pairs where each key is associated with a specific value. the keys servers as an unique identifier for that value\n",
    "# 2 mutable :- dictnories can be modified after creation you can add , remove , update key value pairs within a dictionary .\n",
    "# 3 key are unique:-each key in a dictionary must be unique , if we try to add a duplicate key then the value associated with that is replace by the new value\n",
    "# 4 define by curly braces or by dict() method\n",
    "# syntax\n",
    "# creating a dictionary\n",
    "friends = {\"name\":\"preeto\",\"age\":22,\"relation\":\"best-friend\"}\n",
    "# now we access the list\n",
    "print(friends)\n",
    "# adding key-value pairs\n",
    "friends[\"class\"] = \"btech 3rd year\"\n",
    "# now we print the dict\n",
    "print(\"after we add new value which is class:-\",friends)\n",
    "# now we try to modifying the dict\n",
    "friends[\"age\"]=21\n",
    "print(\"after we update the age \",friends)\n",
    "# now we try to remove the key-value pairs for that we use del keyword\n",
    "del friends[\"relation\"]\n",
    "print(\"after deleting the key-value pairs:-\",friends)\n",
    "# fiding the length of the dictionary\n",
    "print(\"the length of the dictionary is :-\",len(friends))"
   ]
  }
 ],
 "metadata": {
  "kernelspec": {
   "display_name": "Python 3 (ipykernel)",
   "language": "python",
   "name": "python3"
  },
  "language_info": {
   "codemirror_mode": {
    "name": "ipython",
    "version": 3
   },
   "file_extension": ".py",
   "mimetype": "text/x-python",
   "name": "python",
   "nbconvert_exporter": "python",
   "pygments_lexer": "ipython3",
   "version": "3.11.4"
  }
 },
 "nbformat": 4,
 "nbformat_minor": 5
}
